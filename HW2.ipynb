{
 "cells": [
  {
   "cell_type": "raw",
   "id": "1b8ac10b-db82-44d5-8687-23d9dc778079",
   "metadata": {},
   "source": [
    "Your Name: Vaibhav Shrivastav\n",
    "Your ASU ID: 1229620381"
   ]
  },
  {
   "cell_type": "markdown",
   "id": "f82745e9-05a0-42eb-acd5-8398ca7d586e",
   "metadata": {
    "tags": []
   },
   "source": [
    "# Homework Assignment 2 - A Probablistic Naive Bayes Classifier\n",
    "\n",
    "CSE 575 Section C Fall 2024 Luo\n",
    "\n",
    "## Description\n",
    "\n",
    "**This is an individual work.** The project focuses on a subset of the MNIST dataset containing images of digits \"0\" and \"1\". The project involves four tasks: feature extraction, parameter calculation, implementation of Naïve Bayes classifiers, and prediction of labels for the test data using the classifiers. Finally, calculating the accuracy of the predictions.\n",
    "\n",
    "## What packages are allowed / prohibited\n",
    "\n",
    "You ARE allowed to use fundamental math/stat operators in numpy and math, such as numpy.var, numpy.std, numpy.mean and etc.\n",
    "\n",
    "You are <font color=\"red\">**NOT allowed**</font> to use functions that directly return Gaussian-dsitribution PDF values or directly use a NB classifier, e.g. scipy.stat.norm, numpy.random.normal, the sklearn library as a whole, or the likes. If we find you use any of those in your source code, your submission will be desk-rejected (receiving a 0). \n",
    "\n",
    "## Deliverables\n",
    "\n",
    "- (7 pts) Your source code in this **HW2.ipynb** that contains all the proper implementations\n",
    "- (3 pts) A one-page **pdf** report, excluding the cover page if you have one. **You will report all output values (from Step 2 and Step 3) for all the 3 cases given to you**, and record any difficulty or problem you have encountered during the process.\n",
    "\n",
    "## Evaluation\n",
    "\n",
    "The ground truths for the given 3 cases will be revealed on Canvas **by Tuesday, Feb 13th**. During grading, we will further assess your program and see if it can pass 2 additional hidden test cases. \n",
    "\n",
    "The error range for the PDF values in Step 2 is +-0.2, and the error range for the accuracies in Step 3 is +-0.005 .\n",
    "\n",
    "## Deadline\n",
    "\n",
    "2359 hours on Tuesday, Feb 20th aka the Midterm 1 day. No late submissions will be accepted."
   ]
  },
  {
   "cell_type": "code",
   "execution_count": 203,
   "id": "ea208e78-5da4-4457-ac55-a9e9ff1d189e",
   "metadata": {
    "tags": []
   },
   "outputs": [],
   "source": [
    "# Loading the necessary libraries and data\n",
    "\n",
    "import numpy as np\n",
    "import scipy.io\n",
    "import math\n",
    "\n",
    "# Loading the training set and the test set given a case number\n",
    "\n",
    "case = 1 # can also be 0, 1, or 2\n",
    "\n",
    "Numpyfile0 = scipy.io.loadmat(f'./data/train{case}/digit0_stu_train{case}.mat')\n",
    "Numpyfile1 = scipy.io.loadmat(f'./data/train{case}/digit1_stu_train{case}.mat')\n",
    "Numpyfile2 = scipy.io.loadmat('./data/test/digit0_testset.mat')\n",
    "Numpyfile3 = scipy.io.loadmat('./data/test/digit1_testset.mat')\n",
    "\n",
    "train0 = Numpyfile0.get('target_img') # Training samples of digit 0\n",
    "train1 = Numpyfile1.get('target_img') # Training samples of digit 1\n",
    "\n",
    "test0 = Numpyfile2.get('target_img') # Test samples of digit 0\n",
    "test1 = Numpyfile3.get('target_img') # Test samples of digit 1"
   ]
  },
  {
   "cell_type": "markdown",
   "id": "6df55833-0235-49e2-ba98-b9a7375f73dc",
   "metadata": {},
   "source": [
    "# 1. Feature Extraction - Transforming the Raw Images into 2D\n",
    "\n",
    "The images of MNIST in its raw form are all 28x28 greyscale pixel values, or 1x784 if flattened. That is way too many dimensions! How can we find a way to represent the images but with far fewer dimensions?\n",
    "\n",
    "For this project, we will transform all image samples into 2D vectors. You need to first extract features from your original training sets **i.e. train0, train1**, by converting the original data arrays to 2D arrays. The two features out of any image x are defined as following: \n",
    "\n",
    "**Feature1 / x_f1:** The average brightness of each image (average all pixel values within a whole image array). \n",
    "\n",
    "**Feature2 / x_f2:** The standard deviation of the brightness of each image (standard deviation of all pixel brightness values within a whole image array). \n",
    "\n",
    "We assume that these two features are i.i.d and are sampled from Gaussian distributions with regard to all images. Below is a function template you may make use of."
   ]
  },
  {
   "cell_type": "code",
   "execution_count": 197,
   "id": "8ca58177",
   "metadata": {},
   "outputs": [
    {
     "data": {
      "text/plain": [
       "Text(0.5, 0.98, 'Visualizing Dataset')"
      ]
     },
     "execution_count": 197,
     "metadata": {},
     "output_type": "execute_result"
    },
    {
     "data": {
      "image/png": "[encoded data removed]",
      "text/plain": [
       "<Figure size 640x480 with 2 Axes>"
      ]
     },
     "metadata": {},
     "output_type": "display_data"
    }
   ],
   "source": [
    "#Visualizing\n",
    "import matplotlib.pyplot as plt\n",
    "fig, axs = plt.subplots(1, 2)\n",
    "\n",
    "axs[0].imshow(train0[0], cmap = 'gray')\n",
    "axs[1].imshow(train1[0], cmap = 'gray')\n",
    "axs[0].set_title('Digit 0')\n",
    "axs[1].set_title('Digit 1')\n",
    "fig.suptitle('Visualizing Dataset')"
   ]
  },
  {
   "cell_type": "code",
   "execution_count": 242,
   "id": "2ad14ce9-e919-4e9c-a4e4-b22198db5093",
   "metadata": {
    "tags": []
   },
   "outputs": [
    {
     "name": "stdout",
     "output_type": "stream",
     "text": [
      "Difficulty encountered - None\n"
     ]
    }
   ],
   "source": [
    "# Step 1 Template (you are free to modify it at will)\n",
    "\n",
    "def feat_extract(x):\n",
    "    assert x.shape == (28, 28)\n",
    "    # do some feature extraction here\n",
    "    x_f1 = np.mean(x)\n",
    "    x_f2 = np.std(x)\n",
    "    \n",
    "    return x_f1, x_f2\n",
    "print('Difficulty encountered - None')"
   ]
  },
  {
   "cell_type": "markdown",
   "id": "b499a94b-8222-4ce5-a7b0-ceeffa056e41",
   "metadata": {},
   "source": [
    "# 2. The NB Likehood Parameters are Distributed as Gaussian PDFs\n",
    "\n",
    "You need to calculate all the parameters for our two-class Naive Bayes (NB) classifier respectively, based upon the 2-D featurized data you have obtained in Step 1. \n",
    "\n",
    "**Assuming the two priors P(Y = 0) = P(Y = 1) = 0.5**, we now need to figure out **4 sets of Gaussian PDFs** for the 4 likelihood parameters in order to make predictions. **Remember, you obtain the parameters only from the training sets**:  \n",
    "\n",
    "1. Mean of Feature1 for digit0 \n",
    "2. Variance of Feature1 for digit0 \n",
    "3. Mean of Feature2 for digit0 \n",
    "4. Variance of Feature2 for digit0 \n",
    "5. Mean of Feature1 for digit1\n",
    "6. Variance of Feature1 for digit1 \n",
    "7. Mean of Feature2 for digit1 \n",
    "8. Variance of Feature2 for digit1 \n",
    "\n",
    "**At the end of this step, you need to print out a list that contains these 8 values in the above order.**\n",
    "\n",
    "Hint: Double check the NB classifier formula, what exactly are the 4 likelihood parameters?"
   ]
  },
  {
   "cell_type": "code",
   "execution_count": 244,
   "id": "2593a425-2c77-4815-adb0-87ff6d6c14cf",
   "metadata": {
    "tags": []
   },
   "outputs": [
    {
     "name": "stdout",
     "output_type": "stream",
     "text": [
      "Difficulty Encountered - Made mistakes in implementing the formula for gaussian pdf several times!\n",
      "      Initially I had used a for loop to calculate all the values, thereafter I have constricted each calculation to using inline for loops\n"
     ]
    },
    {
     "data": {
      "text/html": [
       "<div>\n",
       "<style scoped>\n",
       "    .dataframe tbody tr th:only-of-type {\n",
       "        vertical-align: middle;\n",
       "    }\n",
       "\n",
       "    .dataframe tbody tr th {\n",
       "        vertical-align: top;\n",
       "    }\n",
       "\n",
       "    .dataframe thead th {\n",
       "        text-align: right;\n",
       "    }\n",
       "</style>\n",
       "<table border=\"1\" class=\"dataframe\">\n",
       "  <thead>\n",
       "    <tr style=\"text-align: right;\">\n",
       "      <th></th>\n",
       "      <th>mean_f1_digit0</th>\n",
       "      <th>var_f1_digit0</th>\n",
       "      <th>mean_f2_digit0</th>\n",
       "      <th>var_f2_digit0</th>\n",
       "      <th>mean_f1_digit1</th>\n",
       "      <th>var_f1_digit1</th>\n",
       "      <th>mean_f2_digit1</th>\n",
       "      <th>var_f2_digit1</th>\n",
       "    </tr>\n",
       "  </thead>\n",
       "  <tbody>\n",
       "    <tr>\n",
       "      <th>case0</th>\n",
       "      <td>44.214643</td>\n",
       "      <td>115.550259</td>\n",
       "      <td>87.430595</td>\n",
       "      <td>101.468803</td>\n",
       "      <td>19.411020</td>\n",
       "      <td>32.700344</td>\n",
       "      <td>61.386556</td>\n",
       "      <td>84.803712</td>\n",
       "    </tr>\n",
       "    <tr>\n",
       "      <th>case1</th>\n",
       "      <td>44.318015</td>\n",
       "      <td>114.934834</td>\n",
       "      <td>87.539378</td>\n",
       "      <td>100.723410</td>\n",
       "      <td>19.409105</td>\n",
       "      <td>30.990618</td>\n",
       "      <td>61.431762</td>\n",
       "      <td>81.506435</td>\n",
       "    </tr>\n",
       "    <tr>\n",
       "      <th>case2</th>\n",
       "      <td>44.153454</td>\n",
       "      <td>113.586457</td>\n",
       "      <td>87.395606</td>\n",
       "      <td>100.333752</td>\n",
       "      <td>19.379586</td>\n",
       "      <td>31.234097</td>\n",
       "      <td>61.363748</td>\n",
       "      <td>82.256987</td>\n",
       "    </tr>\n",
       "  </tbody>\n",
       "</table>\n",
       "</div>"
      ],
      "text/plain": [
       "       mean_f1_digit0  var_f1_digit0  mean_f2_digit0  var_f2_digit0  \\\n",
       "case0       44.214643     115.550259       87.430595     101.468803   \n",
       "case1       44.318015     114.934834       87.539378     100.723410   \n",
       "case2       44.153454     113.586457       87.395606     100.333752   \n",
       "\n",
       "       mean_f1_digit1  var_f1_digit1  mean_f2_digit1  var_f2_digit1  \n",
       "case0       19.411020      32.700344       61.386556      84.803712  \n",
       "case1       19.409105      30.990618       61.431762      81.506435  \n",
       "case2       19.379586      31.234097       61.363748      82.256987  "
      ]
     },
     "execution_count": 244,
     "metadata": {},
     "output_type": "execute_result"
    }
   ],
   "source": [
    "import pandas as pd\n",
    "# Step 2 Template (you are free to modify it at will)\n",
    "\n",
    "def gaussian_pdf(mu, var, x_f):\n",
    "    # plug in the Gaussian PDF formula, given mean, variance, and a specific feature value x_f\n",
    "    # applies to both feature1 and feature2\n",
    "    numerator = np.exp(-0.5*(((x_f - mu)**2)/var))\n",
    "    denom = np.sqrt(2*np.pi*var)\n",
    "    return numerator/denom\n",
    "\n",
    "# calculate the 4 mean/variance pairs from the featurized train0 and train1 that define the 4 PDFs\n",
    "#f1 is the mean of an image's brightness\n",
    "#f2 is the standard deviation of an image's brightness\n",
    "global case\n",
    "cases = [0, 1, 2]\n",
    "\n",
    "\n",
    "features_df = pd.DataFrame(columns = ['mean_f1_digit0','var_f1_digit0', 'mean_f2_digit0', 'var_f2_digit0', 'mean_f1_digit1', 'var_f1_digit1',\\\n",
    "                                       'mean_f2_digit1', 'var_f2_digit1'])\n",
    "\n",
    "for case in cases:\n",
    "    Numpyfile0 = scipy.io.loadmat(f'./data/train{case}/digit0_stu_train{case}.mat')\n",
    "    Numpyfile1 = scipy.io.loadmat(f'./data/train{case}/digit1_stu_train{case}.mat')\n",
    "    Numpyfile2 = scipy.io.loadmat('./data/test/digit0_testset.mat')\n",
    "    Numpyfile3 = scipy.io.loadmat('./data/test/digit1_testset.mat')\n",
    "\n",
    "    train0 = Numpyfile0.get('target_img') # Training samples of digit 0\n",
    "    train1 = Numpyfile1.get('target_img') # Training samples of digit 1\n",
    "\n",
    "    test0 = Numpyfile2.get('target_img') # Test samples of digit 0\n",
    "    test1 = Numpyfile3.get('target_img') # Test samples of digit 1\n",
    "    \n",
    "    #Digit0 Feature1\n",
    "    mean_f1_digit0 = np.mean(np.fromiter((np.mean(sample) for sample in train0), dtype= 'float'))\n",
    "    var_f1_digit0 = np.var(np.fromiter((np.mean(sample) for sample in train0), dtype = 'float'))\n",
    "\n",
    "    #Digit0 Feature2\n",
    "    mean_f2_digit0 = np.mean(np.fromiter((np.std(sample) for sample in train0), dtype = 'float'))\n",
    "    var_f2_digit0 = np.var(np.fromiter((np.std(sample) for sample in train0), dtype = 'float'))\n",
    "\n",
    "    #Digit1 Feature1\n",
    "    mean_f1_digit1 = np.mean(np.fromiter((np.mean(sample) for sample in train1), dtype= 'float'))\n",
    "    var_f1_digit1 = np.var(np.fromiter((np.mean(sample) for sample in train1), dtype= 'float'))\n",
    "\n",
    "    #Digit1 Feature2\n",
    "    mean_f2_digit1 = np.mean(np.fromiter((np.std(sample) for sample in train1), dtype= 'float'))\n",
    "    var_f2_digit1 = np.var(np.fromiter((np.std(sample) for sample in train1), dtype= 'float'))\n",
    "    \n",
    "    features_df.loc['case'+ str(len(features_df))] = [mean_f1_digit0, var_f1_digit0,\n",
    "        mean_f2_digit0, var_f2_digit0,\n",
    "        mean_f1_digit1, var_f1_digit1,\n",
    "        mean_f2_digit1, var_f2_digit1]\n",
    "\n",
    "print('Difficulty Encountered - Made mistakes in implementing the formula for gaussian pdf several times!\\n\\\n",
    "      Initially I had used a for loop to calculate all the values, thereafter I have constricted each calculation to using inline for loops')\n",
    "features_df"
   ]
  },
  {
   "cell_type": "markdown",
   "id": "1eb270c1-9071-4a5e-8d54-268731daa5ea",
   "metadata": {},
   "source": [
    "# 3. NB Predictions and Accuracies out of the Test Sets\n",
    "\n",
    "Once Step 1 and Step 2 are finished, you now have everything to generate predictions for samples in our test sets. We have two test sets in this project: **test0** of all digit 0's, and **test1** of all digit 1's.\n",
    "\n",
    "Your prediction using a NB classifier is by comparing the two posteriors - P(Y=0|X) vs. P(Y=1|X). For a single test set image X in its raw form, you will obtain the two posteriors by doing \n",
    "\n",
    "1. Convert X into the same feature1-feature2 vectors with your feature extractor done in Step 1, then\n",
    "2. Use the 4 established Gaussian PDFs from Step 2 to obtain the two posteriors and make judgements.\n",
    "\n",
    "**At the end of this step, you need to print out a two-item list that contains the overall prediction accuracies for test0 and test1. The accuracy values should both be within 0 and 1.**"
   ]
  },
  {
   "cell_type": "code",
   "execution_count": 246,
   "id": "264feed4-a3c9-4737-8aab-21dc08395696",
   "metadata": {},
   "outputs": [
    {
     "name": "stdout",
     "output_type": "stream",
     "text": [
      "Difficulty encountered - I had to gain a good understanding of what exactly we are trying to do, connect the dots between Feature extraction,\n",
      "      Naives Bayes and PDF. Went through the lecture notes from CSE229 Stanford Course, which helped, went through our lecture slides few times as well\n",
      "      Calculation itself is fairly simple.\n"
     ]
    },
    {
     "data": {
      "text/html": [
       "<div>\n",
       "<style scoped>\n",
       "    .dataframe tbody tr th:only-of-type {\n",
       "        vertical-align: middle;\n",
       "    }\n",
       "\n",
       "    .dataframe tbody tr th {\n",
       "        vertical-align: top;\n",
       "    }\n",
       "\n",
       "    .dataframe thead th {\n",
       "        text-align: right;\n",
       "    }\n",
       "</style>\n",
       "<table border=\"1\" class=\"dataframe\">\n",
       "  <thead>\n",
       "    <tr style=\"text-align: right;\">\n",
       "      <th></th>\n",
       "      <th>acc0</th>\n",
       "      <th>acc1</th>\n",
       "    </tr>\n",
       "  </thead>\n",
       "  <tbody>\n",
       "    <tr>\n",
       "      <th>case0</th>\n",
       "      <td>0.916327</td>\n",
       "      <td>0.923348</td>\n",
       "    </tr>\n",
       "    <tr>\n",
       "      <th>case1</th>\n",
       "      <td>0.917347</td>\n",
       "      <td>0.923348</td>\n",
       "    </tr>\n",
       "    <tr>\n",
       "      <th>case2</th>\n",
       "      <td>0.917347</td>\n",
       "      <td>0.923348</td>\n",
       "    </tr>\n",
       "  </tbody>\n",
       "</table>\n",
       "</div>"
      ],
      "text/plain": [
       "           acc0      acc1\n",
       "case0  0.916327  0.923348\n",
       "case1  0.917347  0.923348\n",
       "case2  0.917347  0.923348"
      ]
     },
     "execution_count": 246,
     "metadata": {},
     "output_type": "execute_result"
    }
   ],
   "source": [
    "# Step 3 Template (you are free to modify it at will)\n",
    "cases = [0, 1, 2]\n",
    "pdf_df = pd.DataFrame(columns = ['acc0', 'acc1'])\n",
    "for case in cases:\n",
    "    # print(case)\n",
    "    Numpyfile0 = scipy.io.loadmat(f'./data/train{case}/digit0_stu_train{case}.mat')\n",
    "    Numpyfile1 = scipy.io.loadmat(f'./data/train{case}/digit1_stu_train{case}.mat')\n",
    "    Numpyfile2 = scipy.io.loadmat('./data/test/digit0_testset.mat')\n",
    "    Numpyfile3 = scipy.io.loadmat('./data/test/digit1_testset.mat')\n",
    "\n",
    "    test0 = Numpyfile2.get('target_img') # Test samples of digit 0\n",
    "    test1 = Numpyfile3.get('target_img') # Test samples of digit 1\n",
    "\n",
    "    correct0 = 0\n",
    "    correct1 = 0\n",
    "    \n",
    "    for x in test0:\n",
    "        x_f1, x_f2 = feat_extract(x)\n",
    "        # obtain prediction and see if it predicts 0\n",
    "        likelihood0 = gaussian_pdf(features_df.loc['case'+str(case)].mean_f1_digit0, features_df.loc['case'+str(case)].var_f1_digit0, x_f1 )*\\\n",
    "            gaussian_pdf(features_df.loc['case'+str(case)].mean_f2_digit0, features_df.loc['case'+str(case)].var_f2_digit0, x_f2)*0.5\n",
    "        likelihood1 = gaussian_pdf(features_df.loc['case'+str(case)].mean_f1_digit1, features_df.loc['case'+str(case)].var_f1_digit1, x_f1)*\\\n",
    "            gaussian_pdf(features_df.loc['case'+str(case)].mean_f2_digit1, features_df.loc['case'+str(case)].var_f2_digit1, x_f2)*0.5\n",
    "        if likelihood0 > likelihood1:\n",
    "            correct0+=1\n",
    "\n",
    "    acc0 = correct0 / len(test0)\n",
    "    for x in test1:\n",
    "        x_f1, x_f2 = feat_extract(x)\n",
    "        # obtain prediction and see if it predicts 1\n",
    "        likelihood1 = gaussian_pdf(features_df.loc['case'+str(case)].mean_f1_digit1, features_df.loc['case'+str(case)].var_f1_digit1, x_f1)*\\\n",
    "            gaussian_pdf(features_df.loc['case'+str(case)].mean_f2_digit1, features_df.loc['case'+str(case)].var_f2_digit1, x_f2)*0.5\n",
    "        likelihood0 = gaussian_pdf(features_df.loc['case'+str(case)].mean_f1_digit0, features_df.loc['case'+str(case)].var_f1_digit0, x_f1)*\\\n",
    "            gaussian_pdf(features_df.loc['case'+str(case)].mean_f2_digit0, features_df.loc['case'+str(case)].var_f2_digit0, x_f2)*0.5\n",
    "        if likelihood1 > likelihood0:\n",
    "            correct1 += 1\n",
    "    acc1 = correct1 / len(test1)\n",
    "    pdf_df.loc['case'+str(case)] = [acc0, acc1]\n",
    "\n",
    "print('Difficulty encountered - I had to gain a good understanding of what exactly we are trying to do, connect the dots between Feature extraction,\\n\\\n",
    "      Naives Bayes and PDF. Went through the lecture notes from CSE229 Stanford Course, which helped, went through our lecture slides few times as well\\n\\\n",
    "      Calculation itself is fairly simple.')\n",
    "pdf_df"
   ]
  }
 ],
 "metadata": {
  "kernelspec": {
   "display_name": "Python 3 (ipykernel)",
   "language": "python",
   "name": "python3"
  },
  "language_info": {
   "codemirror_mode": {
    "name": "ipython",
    "version": 3
   },
   "file_extension": ".py",
   "mimetype": "text/x-python",
   "name": "python",
   "nbconvert_exporter": "python",
   "pygments_lexer": "ipython3",
   "version": "3.11.4"
  }
 },
 "nbformat": 4,
 "nbformat_minor": 5
}
